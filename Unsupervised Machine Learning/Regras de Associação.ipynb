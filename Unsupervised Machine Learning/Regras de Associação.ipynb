{
 "cells": [
  {
   "cell_type": "markdown",
   "id": "34d30443",
   "metadata": {},
   "source": [
    "# Association Rules\n"
   ]
  },
  {
   "cell_type": "code",
   "execution_count": null,
   "id": "0758e731",
   "metadata": {},
   "outputs": [],
   "source": [
    "https://en.wikipedia.org/wiki/Association_rule_learning\n",
    "https://www.youtube.com/watch?v=guVvtZ7ZClw&ab_channel=edureka%21"
   ]
  }
 ],
 "metadata": {
  "kernelspec": {
   "display_name": "Python 3 (ipykernel)",
   "language": "python",
   "name": "python3"
  },
  "language_info": {
   "codemirror_mode": {
    "name": "ipython",
    "version": 3
   },
   "file_extension": ".py",
   "mimetype": "text/x-python",
   "name": "python",
   "nbconvert_exporter": "python",
   "pygments_lexer": "ipython3",
   "version": "3.9.7"
  }
 },
 "nbformat": 4,
 "nbformat_minor": 5
}
