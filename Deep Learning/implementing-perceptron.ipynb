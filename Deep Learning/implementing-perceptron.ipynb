{
 "cells": [
  {
   "cell_type": "code",
   "execution_count": 5,
   "id": "a8096676",
   "metadata": {},
   "outputs": [],
   "source": [
    "import numpy as np\n",
    "import pandas as pd\n",
    "from sklearn.datasets import load_iris"
   ]
  },
  {
   "cell_type": "code",
   "execution_count": 3,
   "id": "3ecc072b",
   "metadata": {},
   "outputs": [],
   "source": [
    "iris = load_iris() #load iris dataset from sklearn module"
   ]
  },
  {
   "cell_type": "markdown",
   "id": "e1133111",
   "metadata": {},
   "source": [
    "This dataset contains 3 diff types of species of irises (Setosa, Versicolor, Virginica), and four variables: Sepal Length, Sepal Width, Petal Length and Petal Width. The dataset is stored as a 150x4 np.ndarray"
   ]
  },
  {
   "cell_type": "code",
   "execution_count": null,
   "id": "63e0d5df",
   "metadata": {},
   "outputs": [],
   "source": [
    "iris #inspect the data"
   ]
  },
  {
   "cell_type": "markdown",
   "id": "1d663f66",
   "metadata": {},
   "source": [
    "We will create a perceptron model with Petal Length and Petal Width as independent variables"
   ]
  },
  {
   "cell_type": "code",
   "execution_count": 9,
   "id": "011245fd",
   "metadata": {},
   "outputs": [],
   "source": [
    "X = iris.data[:, (2,3)] #get only petal length and width (2, 3) = third and fourth column; remember that indexing starts at 0!"
   ]
  },
  {
   "cell_type": "code",
   "execution_count": null,
   "id": "5bfc5d35",
   "metadata": {},
   "outputs": [],
   "source": [
    "X #inspect the new data"
   ]
  },
  {
   "cell_type": "code",
   "execution_count": 8,
   "id": "6a58d4b4",
   "metadata": {},
   "outputs": [
    {
     "data": {
      "text/plain": [
       "array([0, 0, 0, 0, 0, 0, 0, 0, 0, 0, 0, 0, 0, 0, 0, 0, 0, 0, 0, 0, 0, 0,\n",
       "       0, 0, 0, 0, 0, 0, 0, 0, 0, 0, 0, 0, 0, 0, 0, 0, 0, 0, 0, 0, 0, 0,\n",
       "       0, 0, 0, 0, 0, 0, 1, 1, 1, 1, 1, 1, 1, 1, 1, 1, 1, 1, 1, 1, 1, 1,\n",
       "       1, 1, 1, 1, 1, 1, 1, 1, 1, 1, 1, 1, 1, 1, 1, 1, 1, 1, 1, 1, 1, 1,\n",
       "       1, 1, 1, 1, 1, 1, 1, 1, 1, 1, 1, 1, 2, 2, 2, 2, 2, 2, 2, 2, 2, 2,\n",
       "       2, 2, 2, 2, 2, 2, 2, 2, 2, 2, 2, 2, 2, 2, 2, 2, 2, 2, 2, 2, 2, 2,\n",
       "       2, 2, 2, 2, 2, 2, 2, 2, 2, 2, 2, 2, 2, 2, 2, 2, 2, 2])"
      ]
     },
     "execution_count": 8,
     "metadata": {},
     "output_type": "execute_result"
    }
   ],
   "source": [
    "iris.target #gives the categories of the dataset"
   ]
  },
  {
   "cell_type": "markdown",
   "id": "5e74f3a8",
   "metadata": {},
   "source": [
    "#### Categories\n",
    "* 0 setosa\n",
    "* 1 versicolor\n",
    "* 2 virginica"
   ]
  },
  {
   "cell_type": "markdown",
   "id": "ba8c33f6",
   "metadata": {},
   "source": [
    "We now transform the categories into true or false based on the following conditions: if 0 (setosa), we will code as true; and if not (1 or 2 categories, versicolor and virginica respectively), we will code as false."
   ]
  },
  {
   "cell_type": "code",
   "execution_count": 11,
   "id": "e613f4f7",
   "metadata": {},
   "outputs": [],
   "source": [
    "y = (iris.target == 0) #create a new variable y coding true if the irises category is 0 and false otherwise"
   ]
  },
  {
   "cell_type": "code",
   "execution_count": 12,
   "id": "9a203564",
   "metadata": {},
   "outputs": [
    {
     "data": {
      "text/plain": [
       "array([ True,  True,  True,  True,  True,  True,  True,  True,  True,\n",
       "        True,  True,  True,  True,  True,  True,  True,  True,  True,\n",
       "        True,  True,  True,  True,  True,  True,  True,  True,  True,\n",
       "        True,  True,  True,  True,  True,  True,  True,  True,  True,\n",
       "        True,  True,  True,  True,  True,  True,  True,  True,  True,\n",
       "        True,  True,  True,  True,  True, False, False, False, False,\n",
       "       False, False, False, False, False, False, False, False, False,\n",
       "       False, False, False, False, False, False, False, False, False,\n",
       "       False, False, False, False, False, False, False, False, False,\n",
       "       False, False, False, False, False, False, False, False, False,\n",
       "       False, False, False, False, False, False, False, False, False,\n",
       "       False, False, False, False, False, False, False, False, False,\n",
       "       False, False, False, False, False, False, False, False, False,\n",
       "       False, False, False, False, False, False, False, False, False,\n",
       "       False, False, False, False, False, False, False, False, False,\n",
       "       False, False, False, False, False, False, False, False, False,\n",
       "       False, False, False, False, False, False])"
      ]
     },
     "execution_count": 12,
     "metadata": {},
     "output_type": "execute_result"
    }
   ],
   "source": [
    "y"
   ]
  },
  {
   "cell_type": "code",
   "execution_count": 13,
   "id": "0f8c3886",
   "metadata": {},
   "outputs": [
    {
     "name": "stderr",
     "output_type": "stream",
     "text": [
      "C:\\Users\\davil\\AppData\\Local\\Temp/ipykernel_6884/2023633796.py:1: DeprecationWarning: `np.int` is a deprecated alias for the builtin `int`. To silence this warning, use `int` by itself. Doing this will not modify any behavior and is safe. When replacing `np.int`, you may wish to use e.g. `np.int64` or `np.int32` to specify the precision. If you wish to review your current use, check the release note link for additional information.\n",
      "Deprecated in NumPy 1.20; for more details and guidance: https://numpy.org/devdocs/release/1.20.0-notes.html#deprecations\n",
      "  y = (iris.target == 0).astype(np.int)\n"
     ]
    }
   ],
   "source": [
    "y = (iris.target == 0).astype(np.int) #now we convert the trues to 0s and falses to 1s"
   ]
  },
  {
   "cell_type": "code",
   "execution_count": 14,
   "id": "14af3be8",
   "metadata": {},
   "outputs": [
    {
     "data": {
      "text/plain": [
       "array([1, 1, 1, 1, 1, 1, 1, 1, 1, 1, 1, 1, 1, 1, 1, 1, 1, 1, 1, 1, 1, 1,\n",
       "       1, 1, 1, 1, 1, 1, 1, 1, 1, 1, 1, 1, 1, 1, 1, 1, 1, 1, 1, 1, 1, 1,\n",
       "       1, 1, 1, 1, 1, 1, 0, 0, 0, 0, 0, 0, 0, 0, 0, 0, 0, 0, 0, 0, 0, 0,\n",
       "       0, 0, 0, 0, 0, 0, 0, 0, 0, 0, 0, 0, 0, 0, 0, 0, 0, 0, 0, 0, 0, 0,\n",
       "       0, 0, 0, 0, 0, 0, 0, 0, 0, 0, 0, 0, 0, 0, 0, 0, 0, 0, 0, 0, 0, 0,\n",
       "       0, 0, 0, 0, 0, 0, 0, 0, 0, 0, 0, 0, 0, 0, 0, 0, 0, 0, 0, 0, 0, 0,\n",
       "       0, 0, 0, 0, 0, 0, 0, 0, 0, 0, 0, 0, 0, 0, 0, 0, 0, 0])"
      ]
     },
     "execution_count": 14,
     "metadata": {},
     "output_type": "execute_result"
    }
   ],
   "source": [
    "y"
   ]
  },
  {
   "cell_type": "markdown",
   "id": "22d86f5d",
   "metadata": {},
   "source": [
    "Now the X and y variables are ready, we will fit the perceptron model. We can use scikit learn to fit a single perceptron model, but to create a multi level perceptron model we have to use keras and tensorflow."
   ]
  },
  {
   "cell_type": "code",
   "execution_count": 16,
   "id": "b9e86015",
   "metadata": {},
   "outputs": [],
   "source": [
    "from sklearn.linear_model import Perceptron"
   ]
  },
  {
   "cell_type": "code",
   "execution_count": 17,
   "id": "e3a9eae9",
   "metadata": {},
   "outputs": [],
   "source": [
    "per_clf = Perceptron(random_state = 42) #we will create a perceptron model with hyperparameter random_state as 42 (look at documentation)\n",
    "#the random_state = 42 is similar to set.seed of R? If we define random_state = 42 we will always get the same result"
   ]
  },
  {
   "cell_type": "code",
   "execution_count": 18,
   "id": "cb7b7e61",
   "metadata": {},
   "outputs": [
    {
     "data": {
      "text/plain": [
       "Perceptron(random_state=42)"
      ]
     },
     "execution_count": 18,
     "metadata": {},
     "output_type": "execute_result"
    }
   ],
   "source": [
    "per_clf.fit(X, y) #fit the perceptron model into the X and y variables"
   ]
  },
  {
   "cell_type": "code",
   "execution_count": 19,
   "id": "8b5d33c1",
   "metadata": {},
   "outputs": [
    {
     "data": {
      "text/plain": [
       "array([1, 1, 1, 1, 1, 1, 1, 1, 1, 1, 1, 1, 1, 1, 1, 1, 1, 1, 1, 1, 1, 1,\n",
       "       1, 1, 1, 1, 1, 1, 1, 1, 1, 1, 1, 1, 1, 1, 1, 1, 1, 1, 1, 1, 1, 1,\n",
       "       1, 1, 1, 1, 1, 1, 0, 0, 0, 0, 0, 0, 0, 0, 0, 0, 0, 0, 0, 0, 0, 0,\n",
       "       0, 0, 0, 0, 0, 0, 0, 0, 0, 0, 0, 0, 0, 0, 0, 0, 0, 0, 0, 0, 0, 0,\n",
       "       0, 0, 0, 0, 0, 0, 0, 0, 0, 0, 0, 0, 0, 0, 0, 0, 0, 0, 0, 0, 0, 0,\n",
       "       0, 0, 0, 0, 0, 0, 0, 0, 0, 0, 0, 0, 0, 0, 0, 0, 0, 0, 0, 0, 0, 0,\n",
       "       0, 0, 0, 0, 0, 0, 0, 0, 0, 0, 0, 0, 0, 0, 0, 0, 0, 0])"
      ]
     },
     "execution_count": 19,
     "metadata": {},
     "output_type": "execute_result"
    }
   ],
   "source": [
    "y_pred = per_clf.predict(X) #predict categories based on the X independent variable\n",
    "y_pred"
   ]
  },
  {
   "cell_type": "code",
   "execution_count": 20,
   "id": "e4afdb47",
   "metadata": {},
   "outputs": [
    {
     "data": {
      "text/plain": [
       "1.0"
      ]
     },
     "execution_count": 20,
     "metadata": {},
     "output_type": "execute_result"
    }
   ],
   "source": [
    "from sklearn.metrics import accuracy_score #import function to evaluate the model from scikit learn\n",
    "accuracy_score(y, y_pred) #compute accuracy with accuracy_score(actual values, predicted values)"
   ]
  },
  {
   "cell_type": "markdown",
   "id": "a0ce4155",
   "metadata": {},
   "source": [
    "1.0 means 100% accuracy in classifying the species based on X independent variables"
   ]
  },
  {
   "cell_type": "code",
   "execution_count": 21,
   "id": "2ac2e953",
   "metadata": {},
   "outputs": [
    {
     "data": {
      "text/plain": [
       "array([[-1.4, -2.2]])"
      ]
     },
     "execution_count": 21,
     "metadata": {},
     "output_type": "execute_result"
    }
   ],
   "source": [
    "per_clf.coef_"
   ]
  },
  {
   "cell_type": "markdown",
   "id": "56fb6b6b",
   "metadata": {},
   "source": [
    "The perceptron model is dividing its space using a linear regression line, so we can get the coefficients of y with every variable in X. The coefficients also tell us about the impact of each variable in X in predicting y: for petal length we have a coefficient of -1.4 while for petal.width a coefficient of -2.2"
   ]
  },
  {
   "cell_type": "code",
   "execution_count": 22,
   "id": "96656bef",
   "metadata": {},
   "outputs": [
    {
     "data": {
      "text/plain": [
       "array([4.])"
      ]
     },
     "execution_count": 22,
     "metadata": {},
     "output_type": "execute_result"
    }
   ],
   "source": [
    "per_clf.intercept_"
   ]
  },
  {
   "cell_type": "markdown",
   "id": "fc654558",
   "metadata": {},
   "source": [
    "As such, we can also get the intercept of the model"
   ]
  }
 ],
 "metadata": {
  "kernelspec": {
   "display_name": "Python 3 (ipykernel)",
   "language": "python",
   "name": "python3"
  },
  "language_info": {
   "codemirror_mode": {
    "name": "ipython",
    "version": 3
   },
   "file_extension": ".py",
   "mimetype": "text/x-python",
   "name": "python",
   "nbconvert_exporter": "python",
   "pygments_lexer": "ipython3",
   "version": "3.9.7"
  }
 },
 "nbformat": 4,
 "nbformat_minor": 5
}
