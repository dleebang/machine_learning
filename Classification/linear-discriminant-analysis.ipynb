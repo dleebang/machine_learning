{
 "cells": [
  {
   "cell_type": "markdown",
   "id": "6d8ecb8b",
   "metadata": {},
   "source": [
    "#### Implementing Linear discriminant analysis\n",
    "\n",
    "The linear discriminant analysis is based on the Bayes Theorem by computing the conditional probabilities of each class and then pluggin in the equation the empirical/posterior probability. \n",
    "\n",
    "The boundary of decision rule for predictions is linear.\n",
    "\n",
    "It assumes multivariate normal distribution of the predictors and the same correlation structure for all classes. "
   ]
  },
  {
   "cell_type": "code",
   "execution_count": null,
   "id": "63345948",
   "metadata": {},
   "outputs": [],
   "source": [
    "#run the codes from logistic regression lecture\n",
    "%run \"Lecture_14 (Implementing Logistic Regression).ipynb\""
   ]
  },
  {
   "cell_type": "code",
   "execution_count": 10,
   "id": "8cad8f3d",
   "metadata": {},
   "outputs": [],
   "source": [
    "from sklearn.discriminant_analysis import LinearDiscriminantAnalysis"
   ]
  },
  {
   "cell_type": "code",
   "execution_count": 19,
   "id": "faae127d",
   "metadata": {},
   "outputs": [
    {
     "data": {
      "text/plain": [
       "LinearDiscriminantAnalysis()"
      ]
     },
     "execution_count": 19,
     "metadata": {},
     "output_type": "execute_result"
    }
   ],
   "source": [
    "lda = LinearDiscriminantAnalysis() #create a classification object\n",
    "lda.fit(X, y)"
   ]
  },
  {
   "cell_type": "code",
   "execution_count": 17,
   "id": "0d86a4df",
   "metadata": {},
   "outputs": [],
   "source": [
    "?LinearDiscriminantAnalysis"
   ]
  },
  {
   "cell_type": "code",
   "execution_count": 23,
   "id": "a7f2817b",
   "metadata": {},
   "outputs": [],
   "source": [
    "y_probs_lda = lda.predict_proba(X) #get predicted probabilities"
   ]
  },
  {
   "cell_type": "code",
   "execution_count": 24,
   "id": "b9d2d704",
   "metadata": {},
   "outputs": [],
   "source": [
    "y_pred_lda = lda.predict(X) #predict classes based on probs"
   ]
  },
  {
   "cell_type": "code",
   "execution_count": 25,
   "id": "b552b09a",
   "metadata": {},
   "outputs": [
    {
     "data": {
      "text/plain": [
       "array([[192,  84],\n",
       "       [ 79, 151]], dtype=int64)"
      ]
     },
     "execution_count": 25,
     "metadata": {},
     "output_type": "execute_result"
    }
   ],
   "source": [
    "confusion_matrix(y, y_pred_lda)"
   ]
  }
 ],
 "metadata": {
  "kernelspec": {
   "display_name": "Python 3 (ipykernel)",
   "language": "python",
   "name": "python3"
  },
  "language_info": {
   "codemirror_mode": {
    "name": "ipython",
    "version": 3
   },
   "file_extension": ".py",
   "mimetype": "text/x-python",
   "name": "python",
   "nbconvert_exporter": "python",
   "pygments_lexer": "ipython3",
   "version": "3.9.7"
  }
 },
 "nbformat": 4,
 "nbformat_minor": 5
}
