{
 "cells": [
  {
   "cell_type": "code",
   "execution_count": null,
   "id": "2c0d602d",
   "metadata": {},
   "outputs": [],
   "source": [
    "#run code fromp revious lecture\n",
    "%run \"Lecture_14 (Implementing Logistic Regression).ipynb\""
   ]
  },
  {
   "cell_type": "code",
   "execution_count": 4,
   "id": "b220c872",
   "metadata": {},
   "outputs": [
    {
     "data": {
      "text/html": [
       "<div>\n",
       "<style scoped>\n",
       "    .dataframe tbody tr th:only-of-type {\n",
       "        vertical-align: middle;\n",
       "    }\n",
       "\n",
       "    .dataframe tbody tr th {\n",
       "        vertical-align: top;\n",
       "    }\n",
       "\n",
       "    .dataframe thead th {\n",
       "        text-align: right;\n",
       "    }\n",
       "</style>\n",
       "<table border=\"1\" class=\"dataframe\">\n",
       "  <thead>\n",
       "    <tr style=\"text-align: right;\">\n",
       "      <th></th>\n",
       "      <th>price</th>\n",
       "      <th>resid_area</th>\n",
       "      <th>air_qual</th>\n",
       "      <th>room_num</th>\n",
       "      <th>age</th>\n",
       "      <th>teachers</th>\n",
       "      <th>poor_prop</th>\n",
       "      <th>n_hos_beds</th>\n",
       "      <th>n_hot_rooms</th>\n",
       "      <th>rainfall</th>\n",
       "      <th>parks</th>\n",
       "      <th>avg_dist</th>\n",
       "      <th>airport_YES</th>\n",
       "      <th>waterbody_Lake</th>\n",
       "      <th>waterbody_Lake and River</th>\n",
       "      <th>waterbody_River</th>\n",
       "    </tr>\n",
       "  </thead>\n",
       "  <tbody>\n",
       "    <tr>\n",
       "      <th>220</th>\n",
       "      <td>26.7</td>\n",
       "      <td>36.20</td>\n",
       "      <td>0.507</td>\n",
       "      <td>6.951</td>\n",
       "      <td>88.5</td>\n",
       "      <td>22.6</td>\n",
       "      <td>9.71</td>\n",
       "      <td>8.734</td>\n",
       "      <td>11.2136</td>\n",
       "      <td>23</td>\n",
       "      <td>0.053540</td>\n",
       "      <td>2.8600</td>\n",
       "      <td>0</td>\n",
       "      <td>0</td>\n",
       "      <td>0</td>\n",
       "      <td>1</td>\n",
       "    </tr>\n",
       "    <tr>\n",
       "      <th>71</th>\n",
       "      <td>21.7</td>\n",
       "      <td>40.81</td>\n",
       "      <td>0.413</td>\n",
       "      <td>5.961</td>\n",
       "      <td>17.5</td>\n",
       "      <td>20.8</td>\n",
       "      <td>9.88</td>\n",
       "      <td>10.034</td>\n",
       "      <td>13.1736</td>\n",
       "      <td>46</td>\n",
       "      <td>0.039985</td>\n",
       "      <td>5.2875</td>\n",
       "      <td>0</td>\n",
       "      <td>0</td>\n",
       "      <td>1</td>\n",
       "      <td>0</td>\n",
       "    </tr>\n",
       "    <tr>\n",
       "      <th>240</th>\n",
       "      <td>27.0</td>\n",
       "      <td>34.93</td>\n",
       "      <td>0.428</td>\n",
       "      <td>6.897</td>\n",
       "      <td>54.3</td>\n",
       "      <td>23.4</td>\n",
       "      <td>11.38</td>\n",
       "      <td>10.240</td>\n",
       "      <td>11.2160</td>\n",
       "      <td>24</td>\n",
       "      <td>0.038641</td>\n",
       "      <td>6.3350</td>\n",
       "      <td>1</td>\n",
       "      <td>0</td>\n",
       "      <td>0</td>\n",
       "      <td>0</td>\n",
       "    </tr>\n",
       "    <tr>\n",
       "      <th>6</th>\n",
       "      <td>22.9</td>\n",
       "      <td>37.87</td>\n",
       "      <td>0.524</td>\n",
       "      <td>6.012</td>\n",
       "      <td>66.6</td>\n",
       "      <td>24.8</td>\n",
       "      <td>12.43</td>\n",
       "      <td>6.958</td>\n",
       "      <td>12.1832</td>\n",
       "      <td>41</td>\n",
       "      <td>0.052170</td>\n",
       "      <td>5.5600</td>\n",
       "      <td>1</td>\n",
       "      <td>0</td>\n",
       "      <td>0</td>\n",
       "      <td>1</td>\n",
       "    </tr>\n",
       "    <tr>\n",
       "      <th>417</th>\n",
       "      <td>10.4</td>\n",
       "      <td>48.10</td>\n",
       "      <td>0.679</td>\n",
       "      <td>5.304</td>\n",
       "      <td>89.1</td>\n",
       "      <td>19.8</td>\n",
       "      <td>26.64</td>\n",
       "      <td>8.608</td>\n",
       "      <td>15.0832</td>\n",
       "      <td>60</td>\n",
       "      <td>0.058835</td>\n",
       "      <td>1.6500</td>\n",
       "      <td>1</td>\n",
       "      <td>0</td>\n",
       "      <td>1</td>\n",
       "      <td>0</td>\n",
       "    </tr>\n",
       "  </tbody>\n",
       "</table>\n",
       "</div>"
      ],
      "text/plain": [
       "     price  resid_area  air_qual  room_num   age  teachers  poor_prop  \\\n",
       "220   26.7       36.20     0.507     6.951  88.5      22.6       9.71   \n",
       "71    21.7       40.81     0.413     5.961  17.5      20.8       9.88   \n",
       "240   27.0       34.93     0.428     6.897  54.3      23.4      11.38   \n",
       "6     22.9       37.87     0.524     6.012  66.6      24.8      12.43   \n",
       "417   10.4       48.10     0.679     5.304  89.1      19.8      26.64   \n",
       "\n",
       "     n_hos_beds  n_hot_rooms  rainfall     parks  avg_dist  airport_YES  \\\n",
       "220       8.734      11.2136        23  0.053540    2.8600            0   \n",
       "71       10.034      13.1736        46  0.039985    5.2875            0   \n",
       "240      10.240      11.2160        24  0.038641    6.3350            1   \n",
       "6         6.958      12.1832        41  0.052170    5.5600            1   \n",
       "417       8.608      15.0832        60  0.058835    1.6500            1   \n",
       "\n",
       "     waterbody_Lake  waterbody_Lake and River  waterbody_River  \n",
       "220               0                         0                1  \n",
       "71                0                         1                0  \n",
       "240               0                         0                0  \n",
       "6                 0                         0                1  \n",
       "417               0                         1                0  "
      ]
     },
     "execution_count": 4,
     "metadata": {},
     "output_type": "execute_result"
    }
   ],
   "source": [
    "X_train.head()"
   ]
  },
  {
   "cell_type": "code",
   "execution_count": 6,
   "id": "925385ba",
   "metadata": {},
   "outputs": [],
   "source": [
    "from sklearn import preprocessing\n",
    "scaler = preprocessing.StandardScaler().fit(X_train) #object classifier\n",
    "X_train_scaled = scaler.transform(X_train) #scale the train dataset"
   ]
  },
  {
   "cell_type": "code",
   "execution_count": 8,
   "id": "9cb22f35",
   "metadata": {},
   "outputs": [
    {
     "data": {
      "text/plain": [
       "array([[ 0.44572353, -0.70492455, -0.42487874, ..., -0.48525664,\n",
       "        -0.40529635,  1.3293319 ],\n",
       "       [-0.09643431, -0.04487755, -1.24185891, ..., -0.48525664,\n",
       "         2.4673304 , -0.75225758],\n",
       "       [ 0.478253  , -0.88675963, -1.11148974, ..., -0.48525664,\n",
       "        -0.40529635, -0.75225758],\n",
       "       ...,\n",
       "       [-0.36751323, -0.15941933, -0.0772276 , ..., -0.48525664,\n",
       "         2.4673304 , -0.75225758],\n",
       "       [-0.64943531, -0.60326872, -0.93766417, ..., -0.48525664,\n",
       "        -0.40529635,  1.3293319 ],\n",
       "       [ 0.05536988, -1.01275558, -0.3988049 , ..., -0.48525664,\n",
       "        -0.40529635,  1.3293319 ]])"
      ]
     },
     "execution_count": 8,
     "metadata": {},
     "output_type": "execute_result"
    }
   ],
   "source": [
    "X_train_scaled #the scaled data is transformed from a dataframe to an array of arrays"
   ]
  },
  {
   "cell_type": "code",
   "execution_count": 11,
   "id": "26fd9562",
   "metadata": {},
   "outputs": [],
   "source": [
    "scaler = preprocessing.StandardScaler().fit(X_test)\n",
    "X_test_scaled = scaler.transform(X_test) #scale the test dataset"
   ]
  },
  {
   "cell_type": "code",
   "execution_count": 12,
   "id": "0a5dca11",
   "metadata": {},
   "outputs": [
    {
     "data": {
      "text/plain": [
       "KNeighborsClassifier(n_neighbors=1)"
      ]
     },
     "execution_count": 12,
     "metadata": {},
     "output_type": "execute_result"
    }
   ],
   "source": [
    "#import knn function from sklearn\n",
    "from sklearn.neighbors import KNeighborsClassifier\n",
    "knn_1 = KNeighborsClassifier(n_neighbors = 1) #you specify the hyperparameters when assigning the object class\n",
    "knn_1.fit(X_train_scaled, y_train)"
   ]
  },
  {
   "cell_type": "code",
   "execution_count": 13,
   "id": "5ad99b83",
   "metadata": {},
   "outputs": [
    {
     "data": {
      "text/plain": [
       "array([[30, 28],\n",
       "       [19, 25]], dtype=int64)"
      ]
     },
     "execution_count": 13,
     "metadata": {},
     "output_type": "execute_result"
    }
   ],
   "source": [
    "#compute confusion matrix\n",
    "confusion_matrix(y_test, knn_1.predict(X_test_scaled))\n",
    "\n",
    "#remember:\n",
    "#[true positives, false positives]\n",
    "#[false negatives, true negatives]"
   ]
  },
  {
   "cell_type": "code",
   "execution_count": 15,
   "id": "bbd61b02",
   "metadata": {},
   "outputs": [
    {
     "data": {
      "text/plain": [
       "0.5392156862745098"
      ]
     },
     "execution_count": 15,
     "metadata": {},
     "output_type": "execute_result"
    }
   ],
   "source": [
    "#calculate accuracy score (remember that it is calculated as the true predicted values / total number of obs.)\n",
    "accuracy_score(y_test, knn_1.predict(X_test_scaled))"
   ]
  },
  {
   "cell_type": "code",
   "execution_count": 17,
   "id": "484939d5",
   "metadata": {},
   "outputs": [
    {
     "data": {
      "text/plain": [
       "0.5392156862745098"
      ]
     },
     "execution_count": 17,
     "metadata": {},
     "output_type": "execute_result"
    }
   ],
   "source": [
    "# change the hyperparameter k \n",
    "knn_3 = KNeighborsClassifier(n_neighbors = 3)\n",
    "knn_3.fit(X_train_scaled, y_train)\n",
    "accuracy_score(y_test, knn_1.predict(X_test_scaled))"
   ]
  },
  {
   "cell_type": "markdown",
   "id": "76631ce1",
   "metadata": {},
   "source": [
    "### Run KNN for a given range of K-values to find the optimal"
   ]
  },
  {
   "cell_type": "code",
   "execution_count": 18,
   "id": "00d290be",
   "metadata": {},
   "outputs": [],
   "source": [
    "#import GridSearchCV to run given model with a grid of parameters\n",
    "from sklearn.model_selection import GridSearchCV"
   ]
  },
  {
   "cell_type": "code",
   "execution_count": 28,
   "id": "4e4dbf19",
   "metadata": {},
   "outputs": [
    {
     "data": {
      "text/plain": [
       "{'n_neighbors': array([ 1,  2,  3,  4,  5,  6,  7,  8,  9, 10])}"
      ]
     },
     "execution_count": 28,
     "metadata": {},
     "output_type": "execute_result"
    }
   ],
   "source": [
    "params = {\"n_neighbors\": np.arange(1, 11, dtype = int)} #the grid search cv will require an array of param in form of dictionary\n",
    "params"
   ]
  },
  {
   "cell_type": "code",
   "execution_count": 31,
   "id": "95f9cdbe",
   "metadata": {},
   "outputs": [
    {
     "data": {
      "text/plain": [
       "GridSearchCV(estimator=KNeighborsClassifier(),\n",
       "             param_grid={'n_neighbors': array([ 1,  2,  3,  4,  5,  6,  7,  8,  9, 10])})"
      ]
     },
     "execution_count": 31,
     "metadata": {},
     "output_type": "execute_result"
    }
   ],
   "source": [
    "grid_search_cv = GridSearchCV(KNeighborsClassifier(), params) #(estimator, param_grid)\n",
    "grid_search_cv"
   ]
  },
  {
   "cell_type": "code",
   "execution_count": 32,
   "id": "7fc00744",
   "metadata": {},
   "outputs": [
    {
     "data": {
      "text/plain": [
       "GridSearchCV(estimator=KNeighborsClassifier(),\n",
       "             param_grid={'n_neighbors': array([ 1,  2,  3,  4,  5,  6,  7,  8,  9, 10])})"
      ]
     },
     "execution_count": 32,
     "metadata": {},
     "output_type": "execute_result"
    }
   ],
   "source": [
    "grid_search_cv.fit(X_train_scaled, y_train) #now fit the model with the grid search"
   ]
  },
  {
   "cell_type": "code",
   "execution_count": 35,
   "id": "f01f6cd0",
   "metadata": {},
   "outputs": [
    {
     "data": {
      "text/html": [
       "<div>\n",
       "<style scoped>\n",
       "    .dataframe tbody tr th:only-of-type {\n",
       "        vertical-align: middle;\n",
       "    }\n",
       "\n",
       "    .dataframe tbody tr th {\n",
       "        vertical-align: top;\n",
       "    }\n",
       "\n",
       "    .dataframe thead th {\n",
       "        text-align: right;\n",
       "    }\n",
       "</style>\n",
       "<table border=\"1\" class=\"dataframe\">\n",
       "  <thead>\n",
       "    <tr style=\"text-align: right;\">\n",
       "      <th></th>\n",
       "      <th>mean_fit_time</th>\n",
       "      <th>std_fit_time</th>\n",
       "      <th>mean_score_time</th>\n",
       "      <th>std_score_time</th>\n",
       "      <th>param_n_neighbors</th>\n",
       "      <th>params</th>\n",
       "      <th>split0_test_score</th>\n",
       "      <th>split1_test_score</th>\n",
       "      <th>split2_test_score</th>\n",
       "      <th>split3_test_score</th>\n",
       "      <th>split4_test_score</th>\n",
       "      <th>mean_test_score</th>\n",
       "      <th>std_test_score</th>\n",
       "      <th>rank_test_score</th>\n",
       "    </tr>\n",
       "  </thead>\n",
       "  <tbody>\n",
       "    <tr>\n",
       "      <th>0</th>\n",
       "      <td>0.001197</td>\n",
       "      <td>0.000747</td>\n",
       "      <td>0.004587</td>\n",
       "      <td>0.001017</td>\n",
       "      <td>1</td>\n",
       "      <td>{'n_neighbors': 1}</td>\n",
       "      <td>0.518519</td>\n",
       "      <td>0.567901</td>\n",
       "      <td>0.518519</td>\n",
       "      <td>0.530864</td>\n",
       "      <td>0.5250</td>\n",
       "      <td>0.532160</td>\n",
       "      <td>0.018453</td>\n",
       "      <td>10</td>\n",
       "    </tr>\n",
       "    <tr>\n",
       "      <th>1</th>\n",
       "      <td>0.001196</td>\n",
       "      <td>0.000399</td>\n",
       "      <td>0.007387</td>\n",
       "      <td>0.005519</td>\n",
       "      <td>2</td>\n",
       "      <td>{'n_neighbors': 2}</td>\n",
       "      <td>0.555556</td>\n",
       "      <td>0.580247</td>\n",
       "      <td>0.592593</td>\n",
       "      <td>0.592593</td>\n",
       "      <td>0.5500</td>\n",
       "      <td>0.574198</td>\n",
       "      <td>0.018146</td>\n",
       "      <td>9</td>\n",
       "    </tr>\n",
       "    <tr>\n",
       "      <th>2</th>\n",
       "      <td>0.000603</td>\n",
       "      <td>0.000492</td>\n",
       "      <td>0.003303</td>\n",
       "      <td>0.001867</td>\n",
       "      <td>3</td>\n",
       "      <td>{'n_neighbors': 3}</td>\n",
       "      <td>0.530864</td>\n",
       "      <td>0.592593</td>\n",
       "      <td>0.617284</td>\n",
       "      <td>0.617284</td>\n",
       "      <td>0.6125</td>\n",
       "      <td>0.594105</td>\n",
       "      <td>0.032908</td>\n",
       "      <td>4</td>\n",
       "    </tr>\n",
       "    <tr>\n",
       "      <th>3</th>\n",
       "      <td>0.000000</td>\n",
       "      <td>0.000000</td>\n",
       "      <td>0.000000</td>\n",
       "      <td>0.000000</td>\n",
       "      <td>4</td>\n",
       "      <td>{'n_neighbors': 4}</td>\n",
       "      <td>0.506173</td>\n",
       "      <td>0.580247</td>\n",
       "      <td>0.592593</td>\n",
       "      <td>0.641975</td>\n",
       "      <td>0.6250</td>\n",
       "      <td>0.589198</td>\n",
       "      <td>0.047015</td>\n",
       "      <td>6</td>\n",
       "    </tr>\n",
       "    <tr>\n",
       "      <th>4</th>\n",
       "      <td>0.000000</td>\n",
       "      <td>0.000000</td>\n",
       "      <td>0.006248</td>\n",
       "      <td>0.007652</td>\n",
       "      <td>5</td>\n",
       "      <td>{'n_neighbors': 5}</td>\n",
       "      <td>0.567901</td>\n",
       "      <td>0.506173</td>\n",
       "      <td>0.592593</td>\n",
       "      <td>0.666667</td>\n",
       "      <td>0.6375</td>\n",
       "      <td>0.594167</td>\n",
       "      <td>0.055802</td>\n",
       "      <td>3</td>\n",
       "    </tr>\n",
       "    <tr>\n",
       "      <th>5</th>\n",
       "      <td>0.000000</td>\n",
       "      <td>0.000000</td>\n",
       "      <td>0.003125</td>\n",
       "      <td>0.006250</td>\n",
       "      <td>6</td>\n",
       "      <td>{'n_neighbors': 6}</td>\n",
       "      <td>0.530864</td>\n",
       "      <td>0.555556</td>\n",
       "      <td>0.580247</td>\n",
       "      <td>0.666667</td>\n",
       "      <td>0.6500</td>\n",
       "      <td>0.596667</td>\n",
       "      <td>0.052980</td>\n",
       "      <td>2</td>\n",
       "    </tr>\n",
       "    <tr>\n",
       "      <th>6</th>\n",
       "      <td>0.000000</td>\n",
       "      <td>0.000000</td>\n",
       "      <td>0.003124</td>\n",
       "      <td>0.006249</td>\n",
       "      <td>7</td>\n",
       "      <td>{'n_neighbors': 7}</td>\n",
       "      <td>0.518519</td>\n",
       "      <td>0.506173</td>\n",
       "      <td>0.604938</td>\n",
       "      <td>0.629630</td>\n",
       "      <td>0.6375</td>\n",
       "      <td>0.579352</td>\n",
       "      <td>0.055892</td>\n",
       "      <td>8</td>\n",
       "    </tr>\n",
       "    <tr>\n",
       "      <th>7</th>\n",
       "      <td>0.000000</td>\n",
       "      <td>0.000000</td>\n",
       "      <td>0.003124</td>\n",
       "      <td>0.006248</td>\n",
       "      <td>8</td>\n",
       "      <td>{'n_neighbors': 8}</td>\n",
       "      <td>0.506173</td>\n",
       "      <td>0.567901</td>\n",
       "      <td>0.604938</td>\n",
       "      <td>0.604938</td>\n",
       "      <td>0.6750</td>\n",
       "      <td>0.591790</td>\n",
       "      <td>0.055083</td>\n",
       "      <td>5</td>\n",
       "    </tr>\n",
       "    <tr>\n",
       "      <th>8</th>\n",
       "      <td>0.000000</td>\n",
       "      <td>0.000000</td>\n",
       "      <td>0.006248</td>\n",
       "      <td>0.007652</td>\n",
       "      <td>9</td>\n",
       "      <td>{'n_neighbors': 9}</td>\n",
       "      <td>0.530864</td>\n",
       "      <td>0.530864</td>\n",
       "      <td>0.555556</td>\n",
       "      <td>0.641975</td>\n",
       "      <td>0.7250</td>\n",
       "      <td>0.596852</td>\n",
       "      <td>0.075990</td>\n",
       "      <td>1</td>\n",
       "    </tr>\n",
       "    <tr>\n",
       "      <th>9</th>\n",
       "      <td>0.000000</td>\n",
       "      <td>0.000000</td>\n",
       "      <td>0.006249</td>\n",
       "      <td>0.007653</td>\n",
       "      <td>10</td>\n",
       "      <td>{'n_neighbors': 10}</td>\n",
       "      <td>0.555556</td>\n",
       "      <td>0.518519</td>\n",
       "      <td>0.543210</td>\n",
       "      <td>0.617284</td>\n",
       "      <td>0.6875</td>\n",
       "      <td>0.584414</td>\n",
       "      <td>0.060959</td>\n",
       "      <td>7</td>\n",
       "    </tr>\n",
       "  </tbody>\n",
       "</table>\n",
       "</div>"
      ],
      "text/plain": [
       "   mean_fit_time  std_fit_time  mean_score_time  std_score_time  \\\n",
       "0       0.001197      0.000747         0.004587        0.001017   \n",
       "1       0.001196      0.000399         0.007387        0.005519   \n",
       "2       0.000603      0.000492         0.003303        0.001867   \n",
       "3       0.000000      0.000000         0.000000        0.000000   \n",
       "4       0.000000      0.000000         0.006248        0.007652   \n",
       "5       0.000000      0.000000         0.003125        0.006250   \n",
       "6       0.000000      0.000000         0.003124        0.006249   \n",
       "7       0.000000      0.000000         0.003124        0.006248   \n",
       "8       0.000000      0.000000         0.006248        0.007652   \n",
       "9       0.000000      0.000000         0.006249        0.007653   \n",
       "\n",
       "  param_n_neighbors               params  split0_test_score  \\\n",
       "0                 1   {'n_neighbors': 1}           0.518519   \n",
       "1                 2   {'n_neighbors': 2}           0.555556   \n",
       "2                 3   {'n_neighbors': 3}           0.530864   \n",
       "3                 4   {'n_neighbors': 4}           0.506173   \n",
       "4                 5   {'n_neighbors': 5}           0.567901   \n",
       "5                 6   {'n_neighbors': 6}           0.530864   \n",
       "6                 7   {'n_neighbors': 7}           0.518519   \n",
       "7                 8   {'n_neighbors': 8}           0.506173   \n",
       "8                 9   {'n_neighbors': 9}           0.530864   \n",
       "9                10  {'n_neighbors': 10}           0.555556   \n",
       "\n",
       "   split1_test_score  split2_test_score  split3_test_score  split4_test_score  \\\n",
       "0           0.567901           0.518519           0.530864             0.5250   \n",
       "1           0.580247           0.592593           0.592593             0.5500   \n",
       "2           0.592593           0.617284           0.617284             0.6125   \n",
       "3           0.580247           0.592593           0.641975             0.6250   \n",
       "4           0.506173           0.592593           0.666667             0.6375   \n",
       "5           0.555556           0.580247           0.666667             0.6500   \n",
       "6           0.506173           0.604938           0.629630             0.6375   \n",
       "7           0.567901           0.604938           0.604938             0.6750   \n",
       "8           0.530864           0.555556           0.641975             0.7250   \n",
       "9           0.518519           0.543210           0.617284             0.6875   \n",
       "\n",
       "   mean_test_score  std_test_score  rank_test_score  \n",
       "0         0.532160        0.018453               10  \n",
       "1         0.574198        0.018146                9  \n",
       "2         0.594105        0.032908                4  \n",
       "3         0.589198        0.047015                6  \n",
       "4         0.594167        0.055802                3  \n",
       "5         0.596667        0.052980                2  \n",
       "6         0.579352        0.055892                8  \n",
       "7         0.591790        0.055083                5  \n",
       "8         0.596852        0.075990                1  \n",
       "9         0.584414        0.060959                7  "
      ]
     },
     "execution_count": 35,
     "metadata": {},
     "output_type": "execute_result"
    }
   ],
   "source": [
    "pd.DataFrame(grid_search_cv.cv_results_)"
   ]
  },
  {
   "cell_type": "code",
   "execution_count": 36,
   "id": "faa483d4",
   "metadata": {},
   "outputs": [
    {
     "data": {
      "text/plain": [
       "{'n_neighbors': 9}"
      ]
     },
     "execution_count": 36,
     "metadata": {},
     "output_type": "execute_result"
    }
   ],
   "source": [
    "grid_search_cv.best_params_ #get the best parameter withe the best_params_ attribute"
   ]
  },
  {
   "cell_type": "code",
   "execution_count": 39,
   "id": "b04a37d7",
   "metadata": {},
   "outputs": [
    {
     "data": {
      "text/plain": [
       "KNeighborsClassifier(n_neighbors=9)"
      ]
     },
     "execution_count": 39,
     "metadata": {},
     "output_type": "execute_result"
    }
   ],
   "source": [
    "optimized_knn = grid_search_cv.best_estimator_ #assign to an object the grid search best estimator\n",
    "optimized_knn"
   ]
  },
  {
   "cell_type": "code",
   "execution_count": 42,
   "id": "88a2c9a4",
   "metadata": {},
   "outputs": [
    {
     "data": {
      "text/plain": [
       "sklearn.neighbors._classification.KNeighborsClassifier"
      ]
     },
     "execution_count": 42,
     "metadata": {},
     "output_type": "execute_result"
    }
   ],
   "source": [
    "type(optimized_knn)"
   ]
  },
  {
   "cell_type": "code",
   "execution_count": 41,
   "id": "e448ca4e",
   "metadata": {},
   "outputs": [
    {
     "data": {
      "text/plain": [
       "array([1, 0, 0, 1, 1, 0, 1, 0, 1, 1, 1, 1, 1, 0, 0, 0, 0, 0, 0, 1, 1, 0,\n",
       "       0, 0, 1, 0, 1, 0, 1, 0, 0, 0, 0, 0, 0, 0, 0, 0, 1, 0, 1, 1, 1, 0,\n",
       "       1, 0, 0, 0, 0, 0, 1, 1, 0, 1, 1, 0, 0, 0, 1, 0, 0, 1, 1, 0, 0, 0,\n",
       "       1, 1, 0, 0, 1, 0, 1, 1, 1, 0, 0, 1, 1, 0, 1, 1, 1, 0, 0, 1, 1, 1,\n",
       "       1, 1, 0, 1, 1, 0, 1, 0, 0, 0, 1, 1, 0, 1], dtype=int64)"
      ]
     },
     "execution_count": 41,
     "metadata": {},
     "output_type": "execute_result"
    }
   ],
   "source": [
    "y_test_pred = optimized_knn.predict(X_test_scaled) #note that you can use the optimized_knn object to predict because the object will retain its model class, but now with optimized/tuned to the best parameter\n",
    "y_test_pred"
   ]
  },
  {
   "cell_type": "code",
   "execution_count": 43,
   "id": "5fcae1a7",
   "metadata": {},
   "outputs": [
    {
     "data": {
      "text/plain": [
       "array([[36, 22],\n",
       "       [18, 26]], dtype=int64)"
      ]
     },
     "execution_count": 43,
     "metadata": {},
     "output_type": "execute_result"
    }
   ],
   "source": [
    "confusion_matrix(y_test, y_test_pred)\n",
    "#Remember:\n",
    "#[true positives, false positives]\n",
    "#[false negatives, true negatives]"
   ]
  },
  {
   "cell_type": "code",
   "execution_count": 44,
   "id": "452932dc",
   "metadata": {},
   "outputs": [
    {
     "data": {
      "text/plain": [
       "0.6078431372549019"
      ]
     },
     "execution_count": 44,
     "metadata": {},
     "output_type": "execute_result"
    }
   ],
   "source": [
    "accuracy_score(y_test, y_test_pred) #note that the accuracy improved with optimzed k"
   ]
  },
  {
   "cell_type": "markdown",
   "id": "0ae6a613",
   "metadata": {},
   "source": [
    "### You can specify a wider range of K parameters to test for the best optimal value"
   ]
  }
 ],
 "metadata": {
  "kernelspec": {
   "display_name": "Python 3 (ipykernel)",
   "language": "python",
   "name": "python3"
  },
  "language_info": {
   "codemirror_mode": {
    "name": "ipython",
    "version": 3
   },
   "file_extension": ".py",
   "mimetype": "text/x-python",
   "name": "python",
   "nbconvert_exporter": "python",
   "pygments_lexer": "ipython3",
   "version": "3.9.7"
  }
 },
 "nbformat": 4,
 "nbformat_minor": 5
}
