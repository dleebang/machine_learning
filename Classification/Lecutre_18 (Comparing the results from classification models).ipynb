{
 "cells": [
  {
   "cell_type": "markdown",
   "id": "752d7c68",
   "metadata": {},
   "source": [
    "### Things to remember\n",
    "\n",
    "The linear and logistic regressions are parametric models that gives you information about the impact of the predictor variables on the response one based on p-values and coefficients (betas). You can use such information to decide whether or not to exclude features (predict variables) of the analysis since they are not informative on our model. \n",
    "\n",
    "For non-parametric models, these analysis of feature importance are usually not possible (for example, in knn algorithm). In random forests you can look at variable importance, however. \n",
    "\n",
    "You always have to compare which model gives you the best accuracy score! When you have data with linear boundaries, linear models such as linear regression and LDA (linear discriminant analysis) will perform better and give higher accuracies. When you have non-linear relationships, other models will perform better, such as the KNN algorithm. \n",
    "\n",
    "Select the model with the **best accuracy** score\n",
    "\n",
    "Confusion matrix for classification problems"
   ]
  }
 ],
 "metadata": {
  "kernelspec": {
   "display_name": "Python 3 (ipykernel)",
   "language": "python",
   "name": "python3"
  },
  "language_info": {
   "codemirror_mode": {
    "name": "ipython",
    "version": 3
   },
   "file_extension": ".py",
   "mimetype": "text/x-python",
   "name": "python",
   "nbconvert_exporter": "python",
   "pygments_lexer": "ipython3",
   "version": "3.9.7"
  }
 },
 "nbformat": 4,
 "nbformat_minor": 5
}
